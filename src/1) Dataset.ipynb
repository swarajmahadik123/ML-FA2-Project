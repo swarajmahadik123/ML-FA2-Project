{
 "cells": [
  {
   "cell_type": "markdown",
   "id": "d4d5891c-9f91-4d43-bbc1-4b9c3afa38e9",
   "metadata": {},
   "source": [
    "# **Downloading the Dataset**\n",
    "The description of CICIDS2017 dataset is accessible at https://www.unb.ca/cic/datasets/ids-2017.html\n",
    "\n",
    "There are three versions available:\n",
    "\n",
    "1.   Raw network captured data (PCAPs),\n",
    "2.   Generated Labelled Flows, and\n",
    "3.   Machine Learning CSV.\n",
    "\n",
    "In this notebook, we will download the `MachineLearningCSV.zip` version of this dataset.\n",
    "\n",
    "When downloading this dataset, we rename the `MachineLearningCSV.zip` file to `MachineLearningCVE.zip` because in the `MachineLearningCSV.md5` the target filename is `MachineLearningCVE.zip`."
   ]
  },
  {
   "cell_type": "code",
   "execution_count": null,
   "id": "63bdcad7-2361-4131-b442-6ccfe7241b0d",
   "metadata": {},
   "outputs": [],
   "source": [
    "!wget -nc -O MachineLearningCVE.zip http://205.174.165.80/CICDataset/CIC-IDS-2017/Dataset/CIC-IDS-2017/CSVs/MachineLearningCSV.zip\n",
    "\n",
    "# Download MachineLearningCSV.md5 file to check the integrity of the downloaded file.\n",
    "!wget -nc http://205.174.165.80/CICDataset/CIC-IDS-2017/Dataset/CIC-IDS-2017/CSVs/MachineLearningCSV.md5\n",
    "\n",
    "# Checking the file integrity.\n",
    "!md5sum -c MachineLearningCSV.md5"
   ]
  },
  {
   "cell_type": "markdown",
   "id": "ce6adbdb-6f78-4393-8f9d-59b4b2f13f7a",
   "metadata": {},
   "source": [
    "# **Saving the Dataset**\n",
    "Save the zip and extracted files to Google Drive at `CICIDS2017` folder."
   ]
  },
  {
   "cell_type": "code",
   "execution_count": null,
   "id": "ef91043b-5b38-4dd2-864b-c3b4a86b7134",
   "metadata": {},
   "outputs": [],
   "source": [
    "!mkdir -p \"/content/drive/My Drive/CICIDS2017/\"\n",
    "\n",
    "!cp MachineLearningCVE.zip \"/content/drive/My Drive/CICIDS2017/\""
   ]
  },
  {
   "cell_type": "markdown",
   "id": "40cffd17-8453-411b-b816-075fa477ea17",
   "metadata": {},
   "source": [
    "# **Unzip the Dataset**\n",
    "Unzip the `MachineLearningCVE.zip`.\n",
    "\n",
    "There are eight files extracted from this zip file.\n",
    "\n",
    "\n",
    "1.  `Monday-WorkingHours.pcap_ISCX.csv`\n",
    "2.  `Tuesday-WorkingHours.pcap_ISCX.csv`\n",
    "3.  `Wednesday-workingHours.pcap_ISCX.csv`\n",
    "4.  `Thursday-WorkingHours-Morning-WebAttacks.pcap_ISCX.csv`\n",
    "5.  `Thursday-WorkingHours-Afternoon-Infilteration.pcap_ISCX.csv`\n",
    "6.  `Friday-WorkingHours-Morning.pcap_ISCX.csv`\n",
    "7.  `Friday-WorkingHours-Afternoon-PortScan.pcap_ISCX.csv`\n",
    "8.  `Friday-WorkingHours-Afternoon-DDos.pcap_ISCX.csv`"
   ]
  },
  {
   "cell_type": "code",
   "execution_count": null,
   "id": "43ecc57e-7b43-479f-bf81-5c54abe5b0b3",
   "metadata": {},
   "outputs": [],
   "source": [
    "!unzip -n \"/content/drive/My Drive/CICIDS2017/MachineLearningCVE.zip\""
   ]
  }
 ],
 "metadata": {
  "kernelspec": {
   "display_name": "cicids",
   "language": "python",
   "name": "cicids"
  },
  "language_info": {
   "codemirror_mode": {
    "name": "ipython",
    "version": 3
   },
   "file_extension": ".py",
   "mimetype": "text/x-python",
   "name": "python",
   "nbconvert_exporter": "python",
   "pygments_lexer": "ipython3",
   "version": "3.9.20"
  }
 },
 "nbformat": 4,
 "nbformat_minor": 5
}
