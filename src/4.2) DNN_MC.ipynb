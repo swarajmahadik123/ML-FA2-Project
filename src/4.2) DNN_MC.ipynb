{
 "cells": [
  {
   "cell_type": "markdown",
   "id": "f43e36f1-c366-443c-b4e1-2b2beb3d5f3c",
   "metadata": {},
   "source": [
    "## **Load the Preprocessed Data**\n",
    "\n",
    "First, you need to import the required libraries and load the `preprocessed_data.csv` file that you saved earlier."
   ]
  },
  {
   "cell_type": "code",
   "execution_count": 1,
   "id": "969f4b04-36ed-4f9d-8e2c-16d4e9259988",
   "metadata": {},
   "outputs": [],
   "source": [
    "import pandas as pd\n",
    "import numpy as np\n",
    "\n",
    "# Load the preprocessed data\n",
    "new_data = pd.read_csv(r\"E:/Random Python Scripts/CICIDS/CICIDS2017/preprocessed_data.csv\")"
   ]
  },
  {
   "cell_type": "markdown",
   "id": "69f78450-8cb8-4469-ad59-ebd7366ea693",
   "metadata": {},
   "source": [
    "## **Creating a balanced dataset for Multi-Class Classification**\n",
    "\n",
    "The following dataset is highly imbalanced, we took the help of **SMOTE (Synthetic Minority Over-sampling Technique)** to upsample the minority classes while creating a balanced dataset for multi-class classification. This helped us in creating an overall balanced dataset to feed the classification models."
   ]
  },
  {
   "cell_type": "code",
   "execution_count": 2,
   "id": "8f30d79d-5b96-4021-926d-dd42fffe6883",
   "metadata": {},
   "outputs": [
    {
     "data": {
      "text/plain": [
       "Attack Type\n",
       "BENIGN          2096484\n",
       "DoS              193748\n",
       "DDoS             128016\n",
       "Port Scan         90819\n",
       "Brute Force        9152\n",
       "Web Attack         2143\n",
       "Bot                1953\n",
       "Infiltration         36\n",
       "Heartbleed           11\n",
       "Name: count, dtype: int64"
      ]
     },
     "execution_count": 2,
     "metadata": {},
     "output_type": "execute_result"
    }
   ],
   "source": [
    "new_data['Attack Type'].value_counts()"
   ]
  },
  {
   "cell_type": "markdown",
   "id": "9a259df2-66ea-4464-9243-1387df2d4abf",
   "metadata": {},
   "source": [
    "Ensures a more balanced dataset by controlling the number of samples per class."
   ]
  },
  {
   "cell_type": "code",
   "execution_count": 3,
   "id": "4a70b08b-8da1-4c43-a8d5-9c286b4bc89d",
   "metadata": {},
   "outputs": [
    {
     "data": {
      "text/plain": [
       "Attack Type\n",
       "BENIGN         5000\n",
       "DoS            5000\n",
       "DDoS           5000\n",
       "Port Scan      5000\n",
       "Brute Force    5000\n",
       "Web Attack     2143\n",
       "Bot            1953\n",
       "Name: count, dtype: int64"
      ]
     },
     "execution_count": 3,
     "metadata": {},
     "output_type": "execute_result"
    }
   ],
   "source": [
    "class_counts = new_data['Attack Type'].value_counts()\n",
    "selected_classes = class_counts[class_counts > 1950]\n",
    "class_names = selected_classes.index\n",
    "selected = new_data[new_data['Attack Type'].isin(class_names)]\n",
    "\n",
    "dfs = []\n",
    "for name in class_names:\n",
    "  df = selected[selected['Attack Type'] == name]\n",
    "  if len(df) > 2500:\n",
    "    df = df.sample(n = 5000, random_state = 0)\n",
    "\n",
    "  dfs.append(df)\n",
    "\n",
    "df = pd.concat(dfs, ignore_index = True)\n",
    "df['Attack Type'].value_counts()"
   ]
  },
  {
   "cell_type": "markdown",
   "id": "592136cc-c546-4ddf-b669-5cab49b50f34",
   "metadata": {},
   "source": [
    "Combines the upsampled features and labels into a new DataFrame (`blnc_data`)."
   ]
  },
  {
   "cell_type": "code",
   "execution_count": 4,
   "id": "118a8006-8311-4cd7-bb91-4a5a78de2577",
   "metadata": {},
   "outputs": [
    {
     "data": {
      "text/plain": [
       "Attack Type\n",
       "DoS            5000\n",
       "BENIGN         5000\n",
       "Bot            5000\n",
       "DDoS           5000\n",
       "Brute Force    5000\n",
       "Port Scan      5000\n",
       "Web Attack     5000\n",
       "Name: count, dtype: int64"
      ]
     },
     "execution_count": 4,
     "metadata": {},
     "output_type": "execute_result"
    }
   ],
   "source": [
    "from imblearn.over_sampling import SMOTE\n",
    "\n",
    "X = df.drop('Attack Type', axis=1)\n",
    "y = df['Attack Type']\n",
    "\n",
    "smote = SMOTE(sampling_strategy='auto', random_state=0)\n",
    "X_upsampled, y_upsampled = smote.fit_resample(X, y)\n",
    "\n",
    "blnc_data = pd.DataFrame(X_upsampled)\n",
    "blnc_data['Attack Type'] = y_upsampled\n",
    "blnc_data = blnc_data.sample(frac=1)\n",
    "\n",
    "blnc_data['Attack Type'].value_counts()"
   ]
  },
  {
   "cell_type": "code",
   "execution_count": 5,
   "id": "7f4a2b6b-0816-4d5e-b1b1-4c50e5bc6483",
   "metadata": {},
   "outputs": [],
   "source": [
    "from sklearn.preprocessing import LabelEncoder, MinMaxScaler\n",
    "\n",
    "# Encode labels\n",
    "label_encoder = LabelEncoder()\n",
    "y_encoded = label_encoder.fit_transform(blnc_data['Attack Type'])\n",
    "\n",
    "# Feature Scaling\n",
    "scaler = MinMaxScaler()\n",
    "X_scaled = scaler.fit_transform(blnc_data.drop('Attack Type', axis=1))"
   ]
  },
  {
   "cell_type": "code",
   "execution_count": 7,
   "id": "e5ab5f6e-9ad0-401e-acbc-899ae3801aa4",
   "metadata": {},
   "outputs": [],
   "source": [
    "from sklearn.model_selection import train_test_split\n",
    "\n",
    "#Split dataset\n",
    "X_train, X_test, y_train, y_test = train_test_split(X_scaled, y_encoded, test_size=0.25, random_state=0)"
   ]
  },
  {
   "cell_type": "code",
   "execution_count": 5,
   "id": "b8fd9a07-7a8f-4dbf-93ad-2f873caf481a",
   "metadata": {},
   "outputs": [],
   "source": [
    "'''\n",
    "from sklearn.model_selection import train_test_split\n",
    "\n",
    "features = blnc_data.drop('Attack Type', axis = 1)\n",
    "labels = blnc_data['Attack Type']\n",
    "\n",
    "X_train, X_test, y_train, y_test = train_test_split(features, labels, test_size = 0.25, random_state = 0)\n",
    "\n",
    "X_train.shape\n",
    "'''"
   ]
  },
  {
   "cell_type": "markdown",
   "id": "a51e8d0b-e767-4093-84a2-81159947542c",
   "metadata": {},
   "source": [
    "# **Dense Neural Network (DNN)**"
   ]
  },
  {
   "cell_type": "markdown",
   "id": "faced07f-d870-4ae0-9122-fe2c3d4094b2",
   "metadata": {},
   "source": [
    "## **Multi-Class Classification**"
   ]
  },
  {
   "cell_type": "code",
   "execution_count": 9,
   "id": "0e46f7e9-247f-4b6f-b621-9ea66b5009ef",
   "metadata": {},
   "outputs": [],
   "source": [
    "import matplotlib.pyplot as plt\n",
    "import seaborn as sns\n",
    "from sklearn.model_selection import cross_val_score\n",
    "from sklearn.metrics import classification_report\n",
    "from sklearn.metrics import confusion_matrix, ConfusionMatrixDisplay, accuracy_score, classification_report, roc_auc_score, roc_curve, auc, precision_recall_curve"
   ]
  },
  {
   "cell_type": "code",
   "execution_count": 10,
   "id": "5b880e03-f49d-4296-8e1f-3b4d67c0e7c8",
   "metadata": {},
   "outputs": [],
   "source": [
    "import tensorflow as tf\n",
    "from tensorflow.keras.models import Sequential\n",
    "from tensorflow.keras.layers import Dense, Dropout, BatchNormalization\n",
    "from sklearn.preprocessing import MinMaxScaler\n",
    "from sklearn.metrics import classification_report\n",
    "import matplotlib.pyplot as plt"
   ]
  },
  {
   "cell_type": "code",
   "execution_count": 14,
   "id": "c232a540-efea-45c3-8863-2856280a4448",
   "metadata": {},
   "outputs": [
    {
     "data": {
      "text/plain": [
       "7"
      ]
     },
     "execution_count": 14,
     "metadata": {},
     "output_type": "execute_result"
    }
   ],
   "source": [
    "# Assuming y_train is a numpy array\n",
    "num_classes = len(np.unique(y_train))\n",
    "num_classes"
   ]
  },
  {
   "cell_type": "code",
   "execution_count": 15,
   "id": "c2f7b016-be04-45ef-95d8-ac05e69938a8",
   "metadata": {},
   "outputs": [],
   "source": [
    "# Define the model\n",
    "\n",
    "'''\n",
    "model = Sequential([\n",
    "    Dense(128, activation='relu', input_dim=X_train.shape[1]),\n",
    "    BatchNormalization(),\n",
    "    Dropout(0.3),\n",
    "    Dense(64, activation='relu'),\n",
    "    BatchNormalization(),\n",
    "    Dropout(0.3),\n",
    "    Dense(y_train.nunique(), activation='softmax')  # Softmax for multi-class classification\n",
    "])\n",
    "\n",
    "'''\n",
    "# Define the model\n",
    "model = Sequential([\n",
    "    Dense(256, activation='relu', input_dim=X_train.shape[1]),\n",
    "    BatchNormalization(),\n",
    "    Dropout(0.3),\n",
    "    Dense(128, activation='relu'),\n",
    "    BatchNormalization(),\n",
    "    Dropout(0.3),\n",
    "    Dense(64, activation='relu'),\n",
    "    BatchNormalization(),\n",
    "    Dropout(0.3),\n",
    "    Dense(num_classes, activation='softmax')  # Use num_classes for the output layer\n",
    "])"
   ]
  },
  {
   "cell_type": "code",
   "execution_count": 27,
   "id": "1a190c5b-be82-48a0-b625-d79f428d1d10",
   "metadata": {},
   "outputs": [],
   "source": [
    "# Compile the model\n",
    "model.compile(optimizer='adam',\n",
    "              loss='sparse_categorical_crossentropy',\n",
    "              metrics=['sparse_categorical_accuracy'])"
   ]
  },
  {
   "cell_type": "code",
   "execution_count": 28,
   "id": "4ee43ca5-aee7-44df-a4a5-595684c83b42",
   "metadata": {},
   "outputs": [
    {
     "name": "stdout",
     "output_type": "stream",
     "text": [
      "Epoch 1/50\n",
      "\u001b[1m47/47\u001b[0m \u001b[32m━━━━━━━━━━━━━━━━━━━━\u001b[0m\u001b[37m\u001b[0m \u001b[1m4s\u001b[0m 24ms/step - loss: 0.1059 - sparse_categorical_accuracy: 0.9682 - val_loss: 0.8651 - val_sparse_categorical_accuracy: 0.6846\n",
      "Epoch 2/50\n",
      "\u001b[1m47/47\u001b[0m \u001b[32m━━━━━━━━━━━━━━━━━━━━\u001b[0m\u001b[37m\u001b[0m \u001b[1m1s\u001b[0m 17ms/step - loss: 0.1053 - sparse_categorical_accuracy: 0.9692 - val_loss: 1.1360 - val_sparse_categorical_accuracy: 0.5204\n",
      "Epoch 3/50\n",
      "\u001b[1m47/47\u001b[0m \u001b[32m━━━━━━━━━━━━━━━━━━━━\u001b[0m\u001b[37m\u001b[0m \u001b[1m1s\u001b[0m 18ms/step - loss: 0.1029 - sparse_categorical_accuracy: 0.9680 - val_loss: 2.1863 - val_sparse_categorical_accuracy: 0.4229\n",
      "Epoch 4/50\n",
      "\u001b[1m47/47\u001b[0m \u001b[32m━━━━━━━━━━━━━━━━━━━━\u001b[0m\u001b[37m\u001b[0m \u001b[1m1s\u001b[0m 18ms/step - loss: 0.1079 - sparse_categorical_accuracy: 0.9684 - val_loss: 1.1305 - val_sparse_categorical_accuracy: 0.7048\n",
      "Epoch 5/50\n",
      "\u001b[1m47/47\u001b[0m \u001b[32m━━━━━━━━━━━━━━━━━━━━\u001b[0m\u001b[37m\u001b[0m \u001b[1m1s\u001b[0m 17ms/step - loss: 0.0976 - sparse_categorical_accuracy: 0.9717 - val_loss: 0.5607 - val_sparse_categorical_accuracy: 0.8469\n",
      "Epoch 6/50\n",
      "\u001b[1m47/47\u001b[0m \u001b[32m━━━━━━━━━━━━━━━━━━━━\u001b[0m\u001b[37m\u001b[0m \u001b[1m1s\u001b[0m 17ms/step - loss: 0.0941 - sparse_categorical_accuracy: 0.9718 - val_loss: 1.3796 - val_sparse_categorical_accuracy: 0.5722\n",
      "Epoch 7/50\n",
      "\u001b[1m47/47\u001b[0m \u001b[32m━━━━━━━━━━━━━━━━━━━━\u001b[0m\u001b[37m\u001b[0m \u001b[1m1s\u001b[0m 16ms/step - loss: 0.0986 - sparse_categorical_accuracy: 0.9701 - val_loss: 1.1059 - val_sparse_categorical_accuracy: 0.5985\n",
      "Epoch 8/50\n",
      "\u001b[1m47/47\u001b[0m \u001b[32m━━━━━━━━━━━━━━━━━━━━\u001b[0m\u001b[37m\u001b[0m \u001b[1m1s\u001b[0m 14ms/step - loss: 0.0957 - sparse_categorical_accuracy: 0.9714 - val_loss: 1.0000 - val_sparse_categorical_accuracy: 0.6453\n",
      "Epoch 9/50\n",
      "\u001b[1m47/47\u001b[0m \u001b[32m━━━━━━━━━━━━━━━━━━━━\u001b[0m\u001b[37m\u001b[0m \u001b[1m1s\u001b[0m 17ms/step - loss: 0.1023 - sparse_categorical_accuracy: 0.9678 - val_loss: 1.4290 - val_sparse_categorical_accuracy: 0.5040\n",
      "Epoch 10/50\n",
      "\u001b[1m47/47\u001b[0m \u001b[32m━━━━━━━━━━━━━━━━━━━━\u001b[0m\u001b[37m\u001b[0m \u001b[1m1s\u001b[0m 17ms/step - loss: 0.0992 - sparse_categorical_accuracy: 0.9718 - val_loss: 0.7408 - val_sparse_categorical_accuracy: 0.6617\n",
      "Epoch 11/50\n",
      "\u001b[1m47/47\u001b[0m \u001b[32m━━━━━━━━━━━━━━━━━━━━\u001b[0m\u001b[37m\u001b[0m \u001b[1m1s\u001b[0m 18ms/step - loss: 0.0959 - sparse_categorical_accuracy: 0.9707 - val_loss: 1.6499 - val_sparse_categorical_accuracy: 0.4952\n",
      "Epoch 12/50\n",
      "\u001b[1m47/47\u001b[0m \u001b[32m━━━━━━━━━━━━━━━━━━━━\u001b[0m\u001b[37m\u001b[0m \u001b[1m1s\u001b[0m 18ms/step - loss: 0.1001 - sparse_categorical_accuracy: 0.9697 - val_loss: 0.7092 - val_sparse_categorical_accuracy: 0.6583\n",
      "Epoch 13/50\n",
      "\u001b[1m47/47\u001b[0m \u001b[32m━━━━━━━━━━━━━━━━━━━━\u001b[0m\u001b[37m\u001b[0m \u001b[1m1s\u001b[0m 18ms/step - loss: 0.0904 - sparse_categorical_accuracy: 0.9736 - val_loss: 2.5745 - val_sparse_categorical_accuracy: 0.4030\n",
      "Epoch 14/50\n",
      "\u001b[1m47/47\u001b[0m \u001b[32m━━━━━━━━━━━━━━━━━━━━\u001b[0m\u001b[37m\u001b[0m \u001b[1m1s\u001b[0m 16ms/step - loss: 0.0879 - sparse_categorical_accuracy: 0.9721 - val_loss: 0.5527 - val_sparse_categorical_accuracy: 0.7524\n",
      "Epoch 15/50\n",
      "\u001b[1m47/47\u001b[0m \u001b[32m━━━━━━━━━━━━━━━━━━━━\u001b[0m\u001b[37m\u001b[0m \u001b[1m1s\u001b[0m 16ms/step - loss: 0.0987 - sparse_categorical_accuracy: 0.9706 - val_loss: 0.5107 - val_sparse_categorical_accuracy: 0.7524\n",
      "Epoch 16/50\n",
      "\u001b[1m47/47\u001b[0m \u001b[32m━━━━━━━━━━━━━━━━━━━━\u001b[0m\u001b[37m\u001b[0m \u001b[1m1s\u001b[0m 19ms/step - loss: 0.0910 - sparse_categorical_accuracy: 0.9728 - val_loss: 1.1867 - val_sparse_categorical_accuracy: 0.5158\n",
      "Epoch 17/50\n",
      "\u001b[1m47/47\u001b[0m \u001b[32m━━━━━━━━━━━━━━━━━━━━\u001b[0m\u001b[37m\u001b[0m \u001b[1m1s\u001b[0m 16ms/step - loss: 0.0927 - sparse_categorical_accuracy: 0.9728 - val_loss: 0.9214 - val_sparse_categorical_accuracy: 0.6461\n",
      "Epoch 18/50\n",
      "\u001b[1m47/47\u001b[0m \u001b[32m━━━━━━━━━━━━━━━━━━━━\u001b[0m\u001b[37m\u001b[0m \u001b[1m1s\u001b[0m 20ms/step - loss: 0.0888 - sparse_categorical_accuracy: 0.9717 - val_loss: 1.7749 - val_sparse_categorical_accuracy: 0.5006\n",
      "Epoch 19/50\n",
      "\u001b[1m47/47\u001b[0m \u001b[32m━━━━━━━━━━━━━━━━━━━━\u001b[0m\u001b[37m\u001b[0m \u001b[1m1s\u001b[0m 19ms/step - loss: 0.0852 - sparse_categorical_accuracy: 0.9730 - val_loss: 0.5978 - val_sparse_categorical_accuracy: 0.7478\n",
      "Epoch 20/50\n",
      "\u001b[1m47/47\u001b[0m \u001b[32m━━━━━━━━━━━━━━━━━━━━\u001b[0m\u001b[37m\u001b[0m \u001b[1m1s\u001b[0m 18ms/step - loss: 0.0870 - sparse_categorical_accuracy: 0.9736 - val_loss: 1.3719 - val_sparse_categorical_accuracy: 0.5253\n",
      "Epoch 21/50\n",
      "\u001b[1m47/47\u001b[0m \u001b[32m━━━━━━━━━━━━━━━━━━━━\u001b[0m\u001b[37m\u001b[0m \u001b[1m1s\u001b[0m 20ms/step - loss: 0.0866 - sparse_categorical_accuracy: 0.9713 - val_loss: 2.0441 - val_sparse_categorical_accuracy: 0.7257\n",
      "Epoch 22/50\n",
      "\u001b[1m47/47\u001b[0m \u001b[32m━━━━━━━━━━━━━━━━━━━━\u001b[0m\u001b[37m\u001b[0m \u001b[1m1s\u001b[0m 18ms/step - loss: 0.0902 - sparse_categorical_accuracy: 0.9715 - val_loss: 0.7793 - val_sparse_categorical_accuracy: 0.6690\n",
      "Epoch 23/50\n",
      "\u001b[1m47/47\u001b[0m \u001b[32m━━━━━━━━━━━━━━━━━━━━\u001b[0m\u001b[37m\u001b[0m \u001b[1m1s\u001b[0m 19ms/step - loss: 0.0890 - sparse_categorical_accuracy: 0.9719 - val_loss: 0.1135 - val_sparse_categorical_accuracy: 0.9650\n",
      "Epoch 24/50\n",
      "\u001b[1m47/47\u001b[0m \u001b[32m━━━━━━━━━━━━━━━━━━━━\u001b[0m\u001b[37m\u001b[0m \u001b[1m1s\u001b[0m 19ms/step - loss: 0.0829 - sparse_categorical_accuracy: 0.9749 - val_loss: 0.9044 - val_sparse_categorical_accuracy: 0.6248\n",
      "Epoch 25/50\n",
      "\u001b[1m47/47\u001b[0m \u001b[32m━━━━━━━━━━━━━━━━━━━━\u001b[0m\u001b[37m\u001b[0m \u001b[1m1s\u001b[0m 19ms/step - loss: 0.0933 - sparse_categorical_accuracy: 0.9718 - val_loss: 0.4810 - val_sparse_categorical_accuracy: 0.8263\n",
      "Epoch 26/50\n",
      "\u001b[1m47/47\u001b[0m \u001b[32m━━━━━━━━━━━━━━━━━━━━\u001b[0m\u001b[37m\u001b[0m \u001b[1m1s\u001b[0m 20ms/step - loss: 0.0870 - sparse_categorical_accuracy: 0.9740 - val_loss: 1.4405 - val_sparse_categorical_accuracy: 0.5646\n",
      "Epoch 27/50\n",
      "\u001b[1m47/47\u001b[0m \u001b[32m━━━━━━━━━━━━━━━━━━━━\u001b[0m\u001b[37m\u001b[0m \u001b[1m1s\u001b[0m 19ms/step - loss: 0.0867 - sparse_categorical_accuracy: 0.9732 - val_loss: 0.2953 - val_sparse_categorical_accuracy: 0.9299\n",
      "Epoch 28/50\n",
      "\u001b[1m47/47\u001b[0m \u001b[32m━━━━━━━━━━━━━━━━━━━━\u001b[0m\u001b[37m\u001b[0m \u001b[1m1s\u001b[0m 17ms/step - loss: 0.1007 - sparse_categorical_accuracy: 0.9684 - val_loss: 1.4038 - val_sparse_categorical_accuracy: 0.6731\n",
      "Epoch 29/50\n",
      "\u001b[1m47/47\u001b[0m \u001b[32m━━━━━━━━━━━━━━━━━━━━\u001b[0m\u001b[37m\u001b[0m \u001b[1m1s\u001b[0m 15ms/step - loss: 0.0950 - sparse_categorical_accuracy: 0.9716 - val_loss: 0.5857 - val_sparse_categorical_accuracy: 0.7985\n",
      "Epoch 30/50\n",
      "\u001b[1m47/47\u001b[0m \u001b[32m━━━━━━━━━━━━━━━━━━━━\u001b[0m\u001b[37m\u001b[0m \u001b[1m1s\u001b[0m 16ms/step - loss: 0.0949 - sparse_categorical_accuracy: 0.9719 - val_loss: 0.1933 - val_sparse_categorical_accuracy: 0.9368\n",
      "Epoch 31/50\n",
      "\u001b[1m47/47\u001b[0m \u001b[32m━━━━━━━━━━━━━━━━━━━━\u001b[0m\u001b[37m\u001b[0m \u001b[1m1s\u001b[0m 10ms/step - loss: 0.0937 - sparse_categorical_accuracy: 0.9709 - val_loss: 1.1479 - val_sparse_categorical_accuracy: 0.6960\n",
      "Epoch 32/50\n",
      "\u001b[1m47/47\u001b[0m \u001b[32m━━━━━━━━━━━━━━━━━━━━\u001b[0m\u001b[37m\u001b[0m \u001b[1m1s\u001b[0m 15ms/step - loss: 0.0877 - sparse_categorical_accuracy: 0.9747 - val_loss: 1.5384 - val_sparse_categorical_accuracy: 0.5512\n",
      "Epoch 33/50\n",
      "\u001b[1m47/47\u001b[0m \u001b[32m━━━━━━━━━━━━━━━━━━━━\u001b[0m\u001b[37m\u001b[0m \u001b[1m1s\u001b[0m 15ms/step - loss: 0.0898 - sparse_categorical_accuracy: 0.9739 - val_loss: 0.3311 - val_sparse_categorical_accuracy: 0.9070\n",
      "Epoch 34/50\n",
      "\u001b[1m47/47\u001b[0m \u001b[32m━━━━━━━━━━━━━━━━━━━━\u001b[0m\u001b[37m\u001b[0m \u001b[1m2s\u001b[0m 19ms/step - loss: 0.0904 - sparse_categorical_accuracy: 0.9721 - val_loss: 0.1434 - val_sparse_categorical_accuracy: 0.9558\n",
      "Epoch 35/50\n",
      "\u001b[1m47/47\u001b[0m \u001b[32m━━━━━━━━━━━━━━━━━━━━\u001b[0m\u001b[37m\u001b[0m \u001b[1m1s\u001b[0m 19ms/step - loss: 0.0857 - sparse_categorical_accuracy: 0.9740 - val_loss: 0.6457 - val_sparse_categorical_accuracy: 0.7242\n",
      "Epoch 36/50\n",
      "\u001b[1m47/47\u001b[0m \u001b[32m━━━━━━━━━━━━━━━━━━━━\u001b[0m\u001b[37m\u001b[0m \u001b[1m1s\u001b[0m 13ms/step - loss: 0.0811 - sparse_categorical_accuracy: 0.9749 - val_loss: 0.3870 - val_sparse_categorical_accuracy: 0.9013\n",
      "Epoch 37/50\n",
      "\u001b[1m47/47\u001b[0m \u001b[32m━━━━━━━━━━━━━━━━━━━━\u001b[0m\u001b[37m\u001b[0m \u001b[1m1s\u001b[0m 14ms/step - loss: 0.0844 - sparse_categorical_accuracy: 0.9748 - val_loss: 0.2451 - val_sparse_categorical_accuracy: 0.9067\n",
      "Epoch 38/50\n",
      "\u001b[1m47/47\u001b[0m \u001b[32m━━━━━━━━━━━━━━━━━━━━\u001b[0m\u001b[37m\u001b[0m \u001b[1m1s\u001b[0m 16ms/step - loss: 0.0795 - sparse_categorical_accuracy: 0.9762 - val_loss: 0.5689 - val_sparse_categorical_accuracy: 0.7650\n",
      "Epoch 39/50\n",
      "\u001b[1m47/47\u001b[0m \u001b[32m━━━━━━━━━━━━━━━━━━━━\u001b[0m\u001b[37m\u001b[0m \u001b[1m1s\u001b[0m 18ms/step - loss: 0.0808 - sparse_categorical_accuracy: 0.9739 - val_loss: 0.5132 - val_sparse_categorical_accuracy: 0.8587\n",
      "Epoch 40/50\n",
      "\u001b[1m47/47\u001b[0m \u001b[32m━━━━━━━━━━━━━━━━━━━━\u001b[0m\u001b[37m\u001b[0m \u001b[1m1s\u001b[0m 14ms/step - loss: 0.0846 - sparse_categorical_accuracy: 0.9740 - val_loss: 1.8160 - val_sparse_categorical_accuracy: 0.6507\n",
      "Epoch 41/50\n",
      "\u001b[1m47/47\u001b[0m \u001b[32m━━━━━━━━━━━━━━━━━━━━\u001b[0m\u001b[37m\u001b[0m \u001b[1m2s\u001b[0m 17ms/step - loss: 0.0910 - sparse_categorical_accuracy: 0.9741 - val_loss: 1.2690 - val_sparse_categorical_accuracy: 0.6846\n",
      "Epoch 42/50\n",
      "\u001b[1m47/47\u001b[0m \u001b[32m━━━━━━━━━━━━━━━━━━━━\u001b[0m\u001b[37m\u001b[0m \u001b[1m1s\u001b[0m 17ms/step - loss: 0.0814 - sparse_categorical_accuracy: 0.9764 - val_loss: 1.5328 - val_sparse_categorical_accuracy: 0.5783\n",
      "Epoch 43/50\n",
      "\u001b[1m47/47\u001b[0m \u001b[32m━━━━━━━━━━━━━━━━━━━━\u001b[0m\u001b[37m\u001b[0m \u001b[1m1s\u001b[0m 19ms/step - loss: 0.0921 - sparse_categorical_accuracy: 0.9732 - val_loss: 0.4848 - val_sparse_categorical_accuracy: 0.8766\n",
      "Epoch 44/50\n",
      "\u001b[1m47/47\u001b[0m \u001b[32m━━━━━━━━━━━━━━━━━━━━\u001b[0m\u001b[37m\u001b[0m \u001b[1m1s\u001b[0m 18ms/step - loss: 0.0800 - sparse_categorical_accuracy: 0.9755 - val_loss: 1.0152 - val_sparse_categorical_accuracy: 0.6754\n",
      "Epoch 45/50\n",
      "\u001b[1m47/47\u001b[0m \u001b[32m━━━━━━━━━━━━━━━━━━━━\u001b[0m\u001b[37m\u001b[0m \u001b[1m1s\u001b[0m 18ms/step - loss: 0.0875 - sparse_categorical_accuracy: 0.9734 - val_loss: 0.4960 - val_sparse_categorical_accuracy: 0.7627\n",
      "Epoch 46/50\n",
      "\u001b[1m47/47\u001b[0m \u001b[32m━━━━━━━━━━━━━━━━━━━━\u001b[0m\u001b[37m\u001b[0m \u001b[1m1s\u001b[0m 18ms/step - loss: 0.0884 - sparse_categorical_accuracy: 0.9737 - val_loss: 1.4186 - val_sparse_categorical_accuracy: 0.7741\n",
      "Epoch 47/50\n",
      "\u001b[1m47/47\u001b[0m \u001b[32m━━━━━━━━━━━━━━━━━━━━\u001b[0m\u001b[37m\u001b[0m \u001b[1m1s\u001b[0m 19ms/step - loss: 0.0818 - sparse_categorical_accuracy: 0.9742 - val_loss: 1.5719 - val_sparse_categorical_accuracy: 0.6030\n",
      "Epoch 48/50\n",
      "\u001b[1m47/47\u001b[0m \u001b[32m━━━━━━━━━━━━━━━━━━━━\u001b[0m\u001b[37m\u001b[0m \u001b[1m1s\u001b[0m 18ms/step - loss: 0.0801 - sparse_categorical_accuracy: 0.9754 - val_loss: 0.5744 - val_sparse_categorical_accuracy: 0.8427\n",
      "Epoch 49/50\n",
      "\u001b[1m47/47\u001b[0m \u001b[32m━━━━━━━━━━━━━━━━━━━━\u001b[0m\u001b[37m\u001b[0m \u001b[1m1s\u001b[0m 18ms/step - loss: 0.0858 - sparse_categorical_accuracy: 0.9739 - val_loss: 0.4613 - val_sparse_categorical_accuracy: 0.8484\n",
      "Epoch 50/50\n",
      "\u001b[1m47/47\u001b[0m \u001b[32m━━━━━━━━━━━━━━━━━━━━\u001b[0m\u001b[37m\u001b[0m \u001b[1m1s\u001b[0m 16ms/step - loss: 0.0837 - sparse_categorical_accuracy: 0.9747 - val_loss: 0.4885 - val_sparse_categorical_accuracy: 0.8366\n"
     ]
    }
   ],
   "source": [
    "# Train the model\n",
    "history = model.fit(X_train, y_train, \n",
    "                    validation_split=0.1, \n",
    "                    epochs=50, \n",
    "                    batch_size=512, \n",
    "                    verbose=1)"
   ]
  },
  {
   "cell_type": "code",
   "execution_count": 19,
   "id": "1d4d43b5-caa6-4c48-ad27-993c6ed4bff1",
   "metadata": {},
   "outputs": [
    {
     "name": "stderr",
     "output_type": "stream",
     "text": [
      "WARNING:absl:You are saving your model as an HDF5 file via `model.save()` or `keras.saving.save_model(model)`. This file format is considered legacy. We recommend using instead the native Keras format, e.g. `model.save('my_model.keras')` or `keras.saving.save_model(model, 'my_model.keras')`. \n"
     ]
    },
    {
     "name": "stdout",
     "output_type": "stream",
     "text": [
      "Model saved successfully.\n"
     ]
    }
   ],
   "source": [
    "# Save the model\n",
    "model.save(\"DNN_MC.h5\")\n",
    "print(\"Model saved successfully.\")"
   ]
  },
  {
   "cell_type": "markdown",
   "id": "e20859e5-e36c-4589-96b9-d91845767521",
   "metadata": {},
   "source": [
    "# **Performance Evaluation**"
   ]
  },
  {
   "cell_type": "code",
   "execution_count": 20,
   "id": "c2881fc9-1f14-4c69-b586-526991308d3a",
   "metadata": {},
   "outputs": [
    {
     "data": {
      "image/png": "[encoded data removed]",
      "text/plain": [
       "<Figure size 640x480 with 2 Axes>"
      ]
     },
     "metadata": {},
     "output_type": "display_data"
    }
   ],
   "source": [
    "# Accuracy plot\n",
    "plt.subplot(1, 2, 1)\n",
    "plt.plot(history.history['sparse_categorical_accuracy'], label='Train Accuracy')\n",
    "plt.plot(history.history['val_sparse_categorical_accuracy'], label='Validation Accuracy')\n",
    "plt.title('Model Accuracy')\n",
    "plt.xlabel('Epochs')\n",
    "plt.ylabel('Accuracy')\n",
    "plt.legend()\n",
    "\n",
    "# Loss plot\n",
    "plt.subplot(1, 2, 2)\n",
    "plt.plot(history.history['loss'], label='Train Loss')\n",
    "plt.plot(history.history['val_loss'], label='Validation Loss')\n",
    "plt.title('Model Loss')\n",
    "plt.xlabel('Epochs')\n",
    "plt.ylabel('Loss')\n",
    "plt.legend()\n",
    "\n",
    "plt.show()"
   ]
  },
  {
   "cell_type": "code",
   "execution_count": 22,
   "id": "2d031ec1-e38e-4df7-a51c-0a47f1a3a7ef",
   "metadata": {},
   "outputs": [
    {
     "name": "stdout",
     "output_type": "stream",
     "text": [
      "Test Accuracy: 0.87\n",
      "\u001b[1m274/274\u001b[0m \u001b[32m━━━━━━━━━━━━━━━━━━━━\u001b[0m\u001b[37m\u001b[0m \u001b[1m1s\u001b[0m 3ms/step\n",
      "              precision    recall  f1-score   support\n",
      "\n",
      "           0       0.99      0.83      0.90      1235\n",
      "           1       0.92      0.38      0.54      1311\n",
      "           2       0.99      0.97      0.98      1209\n",
      "           3       0.99      0.99      0.99      1214\n",
      "           4       0.95      0.98      0.96      1273\n",
      "           5       0.59      1.00      0.74      1311\n",
      "           6       0.96      0.98      0.97      1197\n",
      "\n",
      "    accuracy                           0.87      8750\n",
      "   macro avg       0.91      0.88      0.87      8750\n",
      "weighted avg       0.91      0.87      0.87      8750\n",
      "\n"
     ]
    }
   ],
   "source": [
    "# Evaluate the model\n",
    "test_loss, test_accuracy = model.evaluate(X_test, y_test, verbose=0)\n",
    "print(f\"Test Accuracy: {test_accuracy:.2f}\")\n",
    "\n",
    "# Generate classification report\n",
    "y_pred = model.predict(X_test)\n",
    "y_pred_classes = y_pred.argmax(axis=1)\n",
    "print(classification_report(y_test, y_pred_classes))"
   ]
  }
 ],
 "metadata": {
  "kernelspec": {
   "display_name": "cicids",
   "language": "python",
   "name": "cicids"
  },
  "language_info": {
   "codemirror_mode": {
    "name": "ipython",
    "version": 3
   },
   "file_extension": ".py",
   "mimetype": "text/x-python",
   "name": "python",
   "nbconvert_exporter": "python",
   "pygments_lexer": "ipython3",
   "version": "3.9.20"
  }
 },
 "nbformat": 4,
 "nbformat_minor": 5
}
