{
 "cells": [
  {
   "cell_type": "markdown",
   "id": "f43e36f1-c366-443c-b4e1-2b2beb3d5f3c",
   "metadata": {},
   "source": [
    "## **Load the Preprocessed Data**\n",
    "\n",
    "First, you need to import the required libraries and load the `preprocessed_data.csv` file that you saved earlier."
   ]
  },
  {
   "cell_type": "code",
   "execution_count": 1,
   "id": "969f4b04-36ed-4f9d-8e2c-16d4e9259988",
   "metadata": {},
   "outputs": [],
   "source": [
    "import pandas as pd\n",
    "import numpy as np\n",
    "\n",
    "# Load the preprocessed data\n",
    "new_data = pd.read_csv(r\"E:/Random Python Scripts/CICIDS/CICIDS2017/preprocessed_data.csv\")"
   ]
  },
  {
   "cell_type": "markdown",
   "id": "69f78450-8cb8-4469-ad59-ebd7366ea693",
   "metadata": {},
   "source": [
    "## **Creating a balanced dataset for Multi-Class Classification**\n",
    "\n",
    "The following dataset is highly imbalanced, we took the help of **SMOTE (Synthetic Minority Over-sampling Technique)** to upsample the minority classes while creating a balanced dataset for multi-class classification. This helped us in creating an overall balanced dataset to feed the classification models."
   ]
  },
  {
   "cell_type": "code",
   "execution_count": 2,
   "id": "8f30d79d-5b96-4021-926d-dd42fffe6883",
   "metadata": {},
   "outputs": [
    {
     "data": {
      "text/plain": [
       "Attack Type\n",
       "BENIGN          2096484\n",
       "DoS              193748\n",
       "DDoS             128016\n",
       "Port Scan         90819\n",
       "Brute Force        9152\n",
       "Web Attack         2143\n",
       "Bot                1953\n",
       "Infiltration         36\n",
       "Heartbleed           11\n",
       "Name: count, dtype: int64"
      ]
     },
     "execution_count": 2,
     "metadata": {},
     "output_type": "execute_result"
    }
   ],
   "source": [
    "new_data['Attack Type'].value_counts()"
   ]
  },
  {
   "cell_type": "markdown",
   "id": "9a259df2-66ea-4464-9243-1387df2d4abf",
   "metadata": {},
   "source": [
    "Ensures a more balanced dataset by controlling the number of samples per class."
   ]
  },
  {
   "cell_type": "code",
   "execution_count": 3,
   "id": "4a70b08b-8da1-4c43-a8d5-9c286b4bc89d",
   "metadata": {},
   "outputs": [
    {
     "data": {
      "text/plain": [
       "Attack Type\n",
       "BENIGN         5000\n",
       "DoS            5000\n",
       "DDoS           5000\n",
       "Port Scan      5000\n",
       "Brute Force    5000\n",
       "Web Attack     2143\n",
       "Bot            1953\n",
       "Name: count, dtype: int64"
      ]
     },
     "execution_count": 3,
     "metadata": {},
     "output_type": "execute_result"
    }
   ],
   "source": [
    "class_counts = new_data['Attack Type'].value_counts()\n",
    "selected_classes = class_counts[class_counts > 1950]\n",
    "class_names = selected_classes.index\n",
    "selected = new_data[new_data['Attack Type'].isin(class_names)]\n",
    "\n",
    "dfs = []\n",
    "for name in class_names:\n",
    "  df = selected[selected['Attack Type'] == name]\n",
    "  if len(df) > 2500:\n",
    "    df = df.sample(n = 5000, random_state = 0)\n",
    "\n",
    "  dfs.append(df)\n",
    "\n",
    "df = pd.concat(dfs, ignore_index = True)\n",
    "df['Attack Type'].value_counts()"
   ]
  },
  {
   "cell_type": "markdown",
   "id": "592136cc-c546-4ddf-b669-5cab49b50f34",
   "metadata": {},
   "source": [
    "Combines the upsampled features and labels into a new DataFrame (`blnc_data`)."
   ]
  },
  {
   "cell_type": "code",
   "execution_count": 4,
   "id": "118a8006-8311-4cd7-bb91-4a5a78de2577",
   "metadata": {},
   "outputs": [
    {
     "data": {
      "text/plain": [
       "Attack Type\n",
       "DoS            5000\n",
       "Port Scan      5000\n",
       "BENIGN         5000\n",
       "Bot            5000\n",
       "Web Attack     5000\n",
       "DDoS           5000\n",
       "Brute Force    5000\n",
       "Name: count, dtype: int64"
      ]
     },
     "execution_count": 4,
     "metadata": {},
     "output_type": "execute_result"
    }
   ],
   "source": [
    "from imblearn.over_sampling import SMOTE\n",
    "\n",
    "X = df.drop('Attack Type', axis=1)\n",
    "y = df['Attack Type']\n",
    "\n",
    "smote = SMOTE(sampling_strategy='auto', random_state=0)\n",
    "X_upsampled, y_upsampled = smote.fit_resample(X, y)\n",
    "\n",
    "blnc_data = pd.DataFrame(X_upsampled)\n",
    "blnc_data['Attack Type'] = y_upsampled\n",
    "blnc_data = blnc_data.sample(frac=1)\n",
    "\n",
    "blnc_data['Attack Type'].value_counts()"
   ]
  },
  {
   "cell_type": "code",
   "execution_count": 5,
   "id": "b8fd9a07-7a8f-4dbf-93ad-2f873caf481a",
   "metadata": {},
   "outputs": [],
   "source": [
    "from sklearn.model_selection import train_test_split\n",
    "\n",
    "features = blnc_data.drop('Attack Type', axis = 1)\n",
    "labels = blnc_data['Attack Type']\n",
    "\n",
    "X_train, X_test, y_train, y_test = train_test_split(features, labels, test_size = 0.25, random_state = 0)"
   ]
  },
  {
   "cell_type": "markdown",
   "id": "a51e8d0b-e767-4093-84a2-81159947542c",
   "metadata": {},
   "source": [
    "# **MLP**"
   ]
  },
  {
   "cell_type": "code",
   "execution_count": 6,
   "id": "0e46f7e9-247f-4b6f-b621-9ea66b5009ef",
   "metadata": {},
   "outputs": [],
   "source": [
    "from sklearn.neural_network import MLPClassifier\n",
    "from sklearn.metrics import accuracy_score, confusion_matrix, classification_report\n",
    "import seaborn as sns\n",
    "import matplotlib.pyplot as plt"
   ]
  },
  {
   "cell_type": "code",
   "execution_count": 7,
   "id": "85754116-620d-41f0-b59e-838d0e6c6ee3",
   "metadata": {},
   "outputs": [],
   "source": [
    "from sklearn.preprocessing import LabelEncoder\n",
    "\n",
    "# Encode labels for MLPClassifier\n",
    "label_encoder = LabelEncoder()\n",
    "y_train_encoded = label_encoder.fit_transform(y_train)\n",
    "y_test_encoded = label_encoder.transform(y_test)\n",
    "\n",
    "# Get label names for classification report\n",
    "label_names = label_encoder.classes_"
   ]
  },
  {
   "cell_type": "code",
   "execution_count": 8,
   "id": "350c572f-5ce7-4c92-89b9-cfc2a1bfa8e4",
   "metadata": {},
   "outputs": [],
   "source": [
    "# Initialize the MLP model\n",
    "mlp_model = MLPClassifier(\n",
    "    hidden_layer_sizes=(100,),  # Single hidden layer with 100 neurons\n",
    "    activation='logistic',\n",
    "    solver='adam',\n",
    "    learning_rate_init=0.0001,\n",
    "    max_iter=2000,\n",
    "    random_state=0\n",
    ")"
   ]
  },
  {
   "cell_type": "code",
   "execution_count": 9,
   "id": "b99b8667-0416-4361-b1bb-5c26863dddc4",
   "metadata": {},
   "outputs": [
    {
     "name": "stdout",
     "output_type": "stream",
     "text": [
      "[MLP] Training...\n",
      "[MLP] Training completed!\n"
     ]
    }
   ],
   "source": [
    "# Train the model\n",
    "print('[MLP] Training...')\n",
    "mlp_model.fit(X_train, y_train_encoded)\n",
    "print('[MLP] Training completed!')"
   ]
  },
  {
   "cell_type": "code",
   "execution_count": 10,
   "id": "65b0817f-5397-4a58-8df9-6693800788d1",
   "metadata": {},
   "outputs": [
    {
     "name": "stdout",
     "output_type": "stream",
     "text": [
      "MLP model saved as 'mlp_model.pkl'\n"
     ]
    }
   ],
   "source": [
    "import joblib\n",
    "\n",
    "# Save the trained model\n",
    "joblib.dump(mlp_model, 'mlp_model.pkl')\n",
    "print(\"MLP model saved as 'mlp_model.pkl'\")"
   ]
  },
  {
   "cell_type": "code",
   "execution_count": 11,
   "id": "d167f4ce-79e7-435c-b8d4-463f565cff58",
   "metadata": {},
   "outputs": [
    {
     "data": {
      "text/plain": [
       "'\\n# Load the saved model\\nloaded_model = joblib.load(\\'mlp_model.pkl\\')\\nprint(\"MLP model loaded successfully!\")\\n\\n# Predict using the loaded model\\nloaded_y_pred = loaded_model.predict(X_test)\\n'"
      ]
     },
     "execution_count": 11,
     "metadata": {},
     "output_type": "execute_result"
    }
   ],
   "source": [
    "'''\n",
    "# Load the saved model\n",
    "loaded_model = joblib.load('mlp_model.pkl')\n",
    "print(\"MLP model loaded successfully!\")\n",
    "\n",
    "# Predict using the loaded model\n",
    "loaded_y_pred = loaded_model.predict(X_test)\n",
    "'''"
   ]
  },
  {
   "cell_type": "markdown",
   "id": "e20859e5-e36c-4589-96b9-d91845767521",
   "metadata": {},
   "source": [
    "# **Performance Evaluation**"
   ]
  },
  {
   "cell_type": "code",
   "execution_count": 12,
   "id": "a1e79cbb-f077-484e-88e8-f9a65999bd98",
   "metadata": {},
   "outputs": [],
   "source": [
    "# Predict on the test set\n",
    "y_pred = mlp_model.predict(X_test)"
   ]
  },
  {
   "cell_type": "code",
   "execution_count": 13,
   "id": "f76d363a-989c-4053-85c2-511988cb56f1",
   "metadata": {},
   "outputs": [
    {
     "name": "stdout",
     "output_type": "stream",
     "text": [
      "Accuracy: 0.9757\n",
      "Confusion Matrix:\n",
      "[[1120   43    9   19   39   18   11]\n",
      " [   8 1262    0    0    0    0    0]\n",
      " [   3    0 1194    0    4    0   24]\n",
      " [   0    0    0 1234    2    0    0]\n",
      " [  11    0    1    0 1252    1    1]\n",
      " [   0    1    0    0    1 1268    1]\n",
      " [   3    0    0    0   13    0 1207]]\n"
     ]
    },
    {
     "data": {
      "image/png": "[encoded data removed]",
      "text/plain": [
       "<Figure size 1000x800 with 2 Axes>"
      ]
     },
     "metadata": {},
     "output_type": "display_data"
    }
   ],
   "source": [
    "# Calculate Accuracy\n",
    "accuracy = accuracy_score(y_test_encoded, y_pred)\n",
    "print(f'Accuracy: {accuracy:.4f}')\n",
    "\n",
    "# Generate Confusion Matrix\n",
    "conf_matrix = confusion_matrix(y_test_encoded, y_pred)\n",
    "print('Confusion Matrix:')\n",
    "print(conf_matrix)\n",
    "\n",
    "# Plot Confusion Matrix\n",
    "plt.figure(figsize=(10, 8))\n",
    "sns.heatmap(conf_matrix, annot=True, fmt='d', cmap='Blues', \n",
    "            xticklabels=label_names, yticklabels=label_names)\n",
    "plt.xlabel('Predicted')\n",
    "plt.ylabel('Actual')\n",
    "plt.title('Confusion Matrix')\n",
    "plt.show()"
   ]
  },
  {
   "cell_type": "code",
   "execution_count": 14,
   "id": "f1dfb0e5-35fd-441c-9716-fc1f26398d8c",
   "metadata": {},
   "outputs": [
    {
     "name": "stdout",
     "output_type": "stream",
     "text": [
      "Classification Report:\n",
      "              precision    recall  f1-score   support\n",
      "\n",
      "      BENIGN       0.98      0.89      0.93      1259\n",
      "         Bot       0.97      0.99      0.98      1270\n",
      " Brute Force       0.99      0.97      0.98      1225\n",
      "        DDoS       0.98      1.00      0.99      1236\n",
      "         DoS       0.95      0.99      0.97      1266\n",
      "   Port Scan       0.99      1.00      0.99      1271\n",
      "  Web Attack       0.97      0.99      0.98      1223\n",
      "\n",
      "    accuracy                           0.98      8750\n",
      "   macro avg       0.98      0.98      0.98      8750\n",
      "weighted avg       0.98      0.98      0.98      8750\n",
      "\n"
     ]
    }
   ],
   "source": [
    "# Generate Classification Report\n",
    "print('Classification Report:')\n",
    "report = classification_report(y_test_encoded, y_pred, target_names=label_names)\n",
    "print(report)"
   ]
  }
 ],
 "metadata": {
  "kernelspec": {
   "display_name": "cicids",
   "language": "python",
   "name": "cicids"
  },
  "language_info": {
   "codemirror_mode": {
    "name": "ipython",
    "version": 3
   },
   "file_extension": ".py",
   "mimetype": "text/x-python",
   "name": "python",
   "nbconvert_exporter": "python",
   "pygments_lexer": "ipython3",
   "version": "3.9.20"
  }
 },
 "nbformat": 4,
 "nbformat_minor": 5
}
